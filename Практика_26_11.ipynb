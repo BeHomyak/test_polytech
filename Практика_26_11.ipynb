{
  "nbformat": 4,
  "nbformat_minor": 0,
  "metadata": {
    "colab": {
      "name": "Практика_26.11.ipynb",
      "provenance": [],
      "authorship_tag": "ABX9TyNMYCOOvVkhHE6wOVmLSOPH",
      "include_colab_link": true
    },
    "kernelspec": {
      "name": "python3",
      "display_name": "Python 3"
    }
  },
  "cells": [
    {
      "cell_type": "markdown",
      "metadata": {
        "id": "view-in-github",
        "colab_type": "text"
      },
      "source": [
        "<a href=\"https://colab.research.google.com/github/BeHomyak/test_polytech/blob/repo/%D0%9F%D1%80%D0%B0%D0%BA%D1%82%D0%B8%D0%BA%D0%B0_26_11.ipynb\" target=\"_parent\"><img src=\"https://colab.research.google.com/assets/colab-badge.svg\" alt=\"Open In Colab\"/></a>"
      ]
    },
    {
      "cell_type": "code",
      "metadata": {
        "id": "Givto-4W47P8"
      },
      "source": [
        "import timeit\n",
        "timeit.timeit(\"\"\"\n",
        "def search(source, target):\n",
        "  end=len(target)\n",
        "  start=0\n",
        "  bit=source[start:end]\n",
        "  while (end!=len(source)) and (bit!=target):\n",
        "    start+=1\n",
        "    end+=1\n",
        "    bit=source[start:end]\n",
        "  if end==len(source):\n",
        "    print('Фрагмент не найден')\n",
        "  if bit==target:\n",
        "    print('Фрагмент находится на расстоянии',start,'символов от начала строки')\n",
        "\n",
        "string='17 сентября 1939 года Красная Армия вступила на территорию польши. По заявлению СССР целью данного действия была защита белорусского и украинского населения, проживающего на территории польши. Через две недели РККА достигла так называемой “линии Керзона” - этнической границы проживания с одной стороны поляков, с другой белорусов и украинцев.'\n",
        "point='нцев.'\n",
        "search(string,point)\n",
        "point='кровь'\n",
        "search(string,point)\n",
        "\"\"\",number=10)/10"
      ],
      "execution_count": null,
      "outputs": []
    }
  ]
}