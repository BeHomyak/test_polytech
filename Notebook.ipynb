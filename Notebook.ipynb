{
  "nbformat": 4,
  "nbformat_minor": 0,
  "metadata": {
    "colab": {
      "name": "Notebook",
      "provenance": [],
      "authorship_tag": "ABX9TyMMg29+hKrCtti3QsFvp9/C",
      "include_colab_link": true
    },
    "kernelspec": {
      "name": "python3",
      "display_name": "Python 3"
    }
  },
  "cells": [
    {
      "cell_type": "markdown",
      "metadata": {
        "id": "view-in-github",
        "colab_type": "text"
      },
      "source": [
        "<a href=\"https://colab.research.google.com/github/BeHomyak/test_polytech/blob/fuck/Notebook.ipynb\" target=\"_parent\"><img src=\"https://colab.research.google.com/assets/colab-badge.svg\" alt=\"Open In Colab\"/></a>"
      ]
    },
    {
      "cell_type": "code",
      "metadata": {
        "id": "epzN1IJK7VO2"
      },
      "source": [
        ""
      ],
      "execution_count": null,
      "outputs": []
    },
    {
      "cell_type": "code",
      "metadata": {
        "colab": {
          "base_uri": "https://localhost:8080/"
        },
        "id": "Y7amVegRd-le",
        "outputId": "c326b184-8c0c-4eb8-8923-9f68d196e09d"
      },
      "source": [
        "class box:\n",
        "  def __init__(self, data=None):\n",
        "    self.data=data\n",
        "    self.lenght=0\n",
        "    self.next=None\n",
        "\n",
        "class boxlist:\n",
        "  def __init__(self):\n",
        "    self.head=None\n",
        "\n",
        "  def boxprint (self):\n",
        "    p_box=self.head\n",
        "    while p_box is not None:\n",
        "      print(p_box.data)\n",
        "      p_box=p_box.next\n",
        "\n",
        "  def create (self, newdata):\n",
        "    newbox=box(newdata)\n",
        "    if self.head is None:\n",
        "        self.head=newbox\n",
        "        return\n",
        "    last=self.head\n",
        "    while (last.next):\n",
        "        last=last.next\n",
        "    last.next=newbox\n",
        "\n",
        "  def remove (self, position):\n",
        "    r_box=self.head\n",
        "    i=1\n",
        "    if r_box is not None:\n",
        "      if position == 1:\n",
        "        self.head=r_box.next\n",
        "        r_box=None\n",
        "        return\n",
        "      else:\n",
        "        while r_box is not None:\n",
        "          if i == position:\n",
        "            break\n",
        "          last=r_box\n",
        "          r_box=r_box.next\n",
        "          i+=1\n",
        "        last.next=r_box.next\n",
        "          \n",
        "  def insert(self, position, newdata):\n",
        "    newbox=box(newdata)\n",
        "    i_box=self.head\n",
        "    i=1\n",
        "    if position == 1:\n",
        "      last=i_box\n",
        "      self.head=newbox\n",
        "      newbox.next=last\n",
        "    else:\n",
        "      while i_box is not None:\n",
        "        if i == position:\n",
        "          last.next=newbox\n",
        "          newbox.next=i_box\n",
        "          break\n",
        "        last=i_box\n",
        "        i_box=i_box.next\n",
        "        i+=1\n",
        "      if (i_box is None) and (i == position):\n",
        "        last.next=newbox\n",
        "\n",
        "  def search (self, data_s):\n",
        "    s_box=self.head\n",
        "    k=0\n",
        "    t=0\n",
        "    while s_box is not None:\n",
        "      k+=1\n",
        "      if s_box != None:\n",
        "        if s_box.data == data_s:\n",
        "          t=1\n",
        "          print('Искомый элемент',data_s,'находится на месте',k)\n",
        "      s_box=s_box.next\n",
        "      if (s_box == None) and (t==0):\n",
        "        print('Элемент',data_s,'не найден')\n",
        "\n",
        "Box=boxlist()\n",
        "Box.create(10)\n",
        "Box.create(11)\n",
        "Box.create(12)\n",
        "Box.create(13)\n",
        "Box.create(14)\n",
        "Box.create(15)\n",
        "Box.boxprint()\n",
        "\n",
        "Box.search(16)\n",
        "\n",
        "Box.remove(4)\n",
        "\n",
        "Box.insert(1, 1)\n",
        "Box.insert(5, 2)\n",
        "Box.insert(8, 3)\n",
        "\n",
        "Box.boxprint()"
      ],
      "execution_count": 172,
      "outputs": [
        {
          "output_type": "stream",
          "text": [
            "10\n",
            "11\n",
            "12\n",
            "13\n",
            "14\n",
            "15\n",
            "Элемент 16 не найден\n",
            "1\n",
            "10\n",
            "11\n",
            "12\n",
            "2\n",
            "14\n",
            "15\n",
            "3\n"
          ],
          "name": "stdout"
        }
      ]
    },
    {
      "cell_type": "code",
      "metadata": {
        "id": "2n-vdT6-YgNF",
        "colab": {
          "base_uri": "https://localhost:8080/"
        },
        "outputId": "fd73908f-a5c2-47fe-e2d9-17441b99e855"
      },
      "source": [
        "data=[]\n",
        "import random\n",
        "n=random.randint(8,15)\n",
        "for i in range(n):\n",
        " x=random.randint(0,100)\n",
        " data.append(x)\n",
        "print(data)\n",
        "def quicksort(nums):\n",
        "   if len(nums) <= 1:\n",
        "       return nums\n",
        "   else:\n",
        "       q = random.choice(nums)\n",
        "       s_nums = []\n",
        "       m_nums = []\n",
        "       e_nums = []\n",
        "       for n in nums:\n",
        "           if n < q:\n",
        "               s_nums.append(n)\n",
        "           elif n > q:\n",
        "               m_nums.append(n)\n",
        "           else:\n",
        "               e_nums.append(n)\n",
        "       return quicksort(s_nums) + e_nums + quicksort(m_nums)\n",
        "print(quicksort(data))"
      ],
      "execution_count": 3,
      "outputs": [
        {
          "output_type": "stream",
          "text": [
            "[53, 68, 26, 92, 89, 91, 62, 51, 78]\n",
            "[26, 51, 53, 62, 68, 78, 89, 91, 92]\n"
          ],
          "name": "stdout"
        }
      ]
    },
    {
      "cell_type": "code",
      "metadata": {
        "id": "x8Ebk2nJTHqY",
        "colab": {
          "base_uri": "https://localhost:8080/"
        },
        "outputId": "01faf48e-2a06-459e-dff3-8a8b46107666"
      },
      "source": [
        "import time\n",
        "timeit.timeit(\"\"\"data=[]\n",
        "import random\n",
        "n=random.randint(0,100)\n",
        "for i in range(n):\n",
        " x=random.randint(0,100)\n",
        " data.append(x)\n",
        "list.sort(data)\n",
        "print(data)\n",
        "z=random.randint(0,100)\n",
        "L=0\n",
        "R=0\n",
        "t=n//2\n",
        "l1=t-1\n",
        "l2=n-t\n",
        "k=data[t]\n",
        "while n!=(R+L):\n",
        " if z==k: break\n",
        " if (k-z)>0:\n",
        "   R=R+l2+1\n",
        "   t=t-1-l1//2\n",
        " if (k-z)<0:\n",
        "   L=L+l1+1\n",
        "   t=L+l2//2\n",
        " l1=t-L\n",
        " l2=n-R-t\n",
        " if t>=n: break\n",
        " k=data[t]\n",
        "if t>=n:\n",
        "  print('Искомое число',z,'больше допустимого предела')\n",
        "if (t<=n) and (z==k):\n",
        "  print('Искомое число',z,'находится под индексом',t)\n",
        "if (z!=k and t<=n):\n",
        "  print('Искомое число',z,'не обнаружено среди чисел списка')\n",
        "\"\"\", number=1)"
      ],
      "execution_count": null,
      "outputs": [
        {
          "output_type": "stream",
          "text": [
            "[0, 0, 4, 7, 8, 10, 11, 12, 17, 17, 17, 18, 20, 20, 21, 22, 24, 24, 25, 26, 29, 30, 31, 32, 35, 36, 38, 39, 39, 40, 41, 43, 43, 44, 44, 47, 49, 51, 53, 53, 53, 54, 56, 56, 56, 59, 59, 60, 61, 62, 64, 64, 64, 66, 66, 66, 67, 69, 70, 73, 73, 74, 76, 78, 78, 78, 80, 80, 80, 81, 82, 86, 88, 88, 89, 93, 94, 96, 96, 97, 97, 99, 100, 100, 100, 100]\n",
            "Искомое число 33 не обнаружено среди чисел списка\n"
          ],
          "name": "stdout"
        },
        {
          "output_type": "execute_result",
          "data": {
            "text/plain": [
              "0.00027571099781198427"
            ]
          },
          "metadata": {
            "tags": []
          },
          "execution_count": 484
        }
      ]
    }
  ]
}