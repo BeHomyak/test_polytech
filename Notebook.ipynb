{
  "nbformat": 4,
  "nbformat_minor": 0,
  "metadata": {
    "colab": {
      "name": "Notebook",
      "provenance": [],
      "authorship_tag": "ABX9TyPTMMfubhDNzo7SEP8FD7ar",
      "include_colab_link": true
    },
    "kernelspec": {
      "name": "python3",
      "display_name": "Python 3"
    }
  },
  "cells": [
    {
      "cell_type": "markdown",
      "metadata": {
        "id": "view-in-github",
        "colab_type": "text"
      },
      "source": [
        "<a href=\"https://colab.research.google.com/github/BeHomyak/test_polytech/blob/kill/Notebook.ipynb\" target=\"_parent\"><img src=\"https://colab.research.google.com/assets/colab-badge.svg\" alt=\"Open In Colab\"/></a>"
      ]
    },
    {
      "cell_type": "code",
      "metadata": {
        "id": "x8Ebk2nJTHqY",
        "outputId": "8547bd42-c5c5-49cd-abd3-d3f3e98e698d",
        "colab": {
          "base_uri": "https://localhost:8080/"
        }
      },
      "source": [
        "data=[]\n",
        "import random\n",
        "n=random.randint(4,10)\n",
        "for i in range(n):\n",
        " x=random.randint(0,999999)\n",
        " data.append(x)\n",
        "print(data)\n",
        "list.sort(data)\n",
        "print(data)\n",
        "t=n//2\n",
        "z=random.randint(0,n)\n",
        "k=1\n",
        "while t!=1:\n",
        " if data[t]!=data[z]:\n",
        "  if abs(data[z]-data[t])<abs(data[z]-data[t+1]) : t=t//2\n",
        "  else: t=t+t//2\n",
        " k=k+1\n",
        " if data[z]==data[t] : break\n",
        "print(data[z],' ',data[t],' ',k,' ',n)"
      ],
      "execution_count": 69,
      "outputs": [
        {
          "output_type": "stream",
          "text": [
            "[418052, 454157, 174298, 411981]\n",
            "[174298, 411981, 418052, 454157]\n",
            "411981   411981   2   4\n"
          ],
          "name": "stdout"
        }
      ]
    },
    {
      "cell_type": "code",
      "metadata": {
        "id": "2n-vdT6-YgNF",
        "outputId": "b945d4f8-12d5-4881-8a9e-913e7ae1b754",
        "colab": {
          "base_uri": "https://localhost:8080/"
        }
      },
      "source": [
        "help(sorted)"
      ],
      "execution_count": 29,
      "outputs": [
        {
          "output_type": "stream",
          "text": [
            "Help on built-in function sorted in module builtins:\n",
            "\n",
            "sorted(iterable, /, *, key=None, reverse=False)\n",
            "    Return a new list containing all items from the iterable in ascending order.\n",
            "    \n",
            "    A custom key function can be supplied to customize the sort order, and the\n",
            "    reverse flag can be set to request the result in descending order.\n",
            "\n"
          ],
          "name": "stdout"
        }
      ]
    }
  ]
}