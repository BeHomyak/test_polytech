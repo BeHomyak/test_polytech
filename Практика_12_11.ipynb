{
  "nbformat": 4,
  "nbformat_minor": 0,
  "metadata": {
    "colab": {
      "name": "Практика_12.11.ipynb",
      "provenance": [],
      "authorship_tag": "ABX9TyPDyV+AhFlLQSmoLgwN/DlG",
      "include_colab_link": true
    },
    "kernelspec": {
      "name": "python3",
      "display_name": "Python 3"
    }
  },
  "cells": [
    {
      "cell_type": "markdown",
      "metadata": {
        "id": "view-in-github",
        "colab_type": "text"
      },
      "source": [
        "<a href=\"https://colab.research.google.com/github/BeHomyak/test_polytech/blob/repo/%D0%9F%D1%80%D0%B0%D0%BA%D1%82%D0%B8%D0%BA%D0%B0_12_11.ipynb\" target=\"_parent\"><img src=\"https://colab.research.google.com/assets/colab-badge.svg\" alt=\"Open In Colab\"/></a>"
      ]
    },
    {
      "cell_type": "code",
      "metadata": {
        "id": "y3oGrbcY4C4y"
      },
      "source": [
        "data=[]\n",
        "import random\n",
        "n=random.randint(8,15)\n",
        "for i in range(n):\n",
        " x=random.randint(0,100)\n",
        " data.append(x)\n",
        "print(data)\n",
        "def quicksort(nums):\n",
        "   if len(nums) <= 1:\n",
        "       return nums\n",
        "   else:\n",
        "       q = random.choice(nums)\n",
        "       s_nums = []\n",
        "       m_nums = []\n",
        "       e_nums = []\n",
        "       for n in nums:\n",
        "           if n < q:\n",
        "               s_nums.append(n)\n",
        "           elif n > q:\n",
        "               m_nums.append(n)\n",
        "           else:\n",
        "               e_nums.append(n)\n",
        "       return quicksort(s_nums) + e_nums + quicksort(m_nums)\n",
        "print(quicksort(data))"
      ],
      "execution_count": null,
      "outputs": []
    }
  ]
}