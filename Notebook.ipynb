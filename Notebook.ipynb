{
  "nbformat": 4,
  "nbformat_minor": 0,
  "metadata": {
    "colab": {
      "name": "Notebook",
      "provenance": [],
      "authorship_tag": "ABX9TyNSiCPcwvNzewHCbnrhc0+p",
      "include_colab_link": true
    },
    "kernelspec": {
      "name": "python3",
      "display_name": "Python 3"
    }
  },
  "cells": [
    {
      "cell_type": "markdown",
      "metadata": {
        "id": "view-in-github",
        "colab_type": "text"
      },
      "source": [
        "<a href=\"https://colab.research.google.com/github/BeHomyak/test_polytech/blob/fuck/Notebook.ipynb\" target=\"_parent\"><img src=\"https://colab.research.google.com/assets/colab-badge.svg\" alt=\"Open In Colab\"/></a>"
      ]
    },
    {
      "cell_type": "code",
      "metadata": {
        "id": "x8Ebk2nJTHqY",
        "outputId": "01faf48e-2a06-459e-dff3-8a8b46107666",
        "colab": {
          "base_uri": "https://localhost:8080/"
        }
      },
      "source": [
        "import time\n",
        "timeit.timeit(\"\"\"data=[]\n",
        "import random\n",
        "n=random.randint(0,100)\n",
        "for i in range(n):\n",
        " x=random.randint(0,100)\n",
        " data.append(x)\n",
        "list.sort(data)\n",
        "print(data)\n",
        "z=random.randint(0,100)\n",
        "L=0\n",
        "R=0\n",
        "t=n//2\n",
        "l1=t-1\n",
        "l2=n-t\n",
        "k=data[t]\n",
        "while n!=(R+L):\n",
        " if z==k: break\n",
        " if (k-z)>0:\n",
        "   R=R+l2+1\n",
        "   t=t-1-l1//2\n",
        " if (k-z)<0:\n",
        "   L=L+l1+1\n",
        "   t=L+l2//2\n",
        " l1=t-L\n",
        " l2=n-R-t\n",
        " if t>=n: break\n",
        " k=data[t]\n",
        "if t>=n:\n",
        "  print('Искомое число',z,'больше допустимого предела')\n",
        "if (t<=n) and (z==k):\n",
        "  print('Искомое число',z,'находится под индексом',t)\n",
        "if (z!=k and t<=n):\n",
        "  print('Искомое число',z,'не обнаружено среди чисел списка')\n",
        "\"\"\", number=1)"
      ],
      "execution_count": 484,
      "outputs": [
        {
          "output_type": "stream",
          "text": [
            "[0, 0, 4, 7, 8, 10, 11, 12, 17, 17, 17, 18, 20, 20, 21, 22, 24, 24, 25, 26, 29, 30, 31, 32, 35, 36, 38, 39, 39, 40, 41, 43, 43, 44, 44, 47, 49, 51, 53, 53, 53, 54, 56, 56, 56, 59, 59, 60, 61, 62, 64, 64, 64, 66, 66, 66, 67, 69, 70, 73, 73, 74, 76, 78, 78, 78, 80, 80, 80, 81, 82, 86, 88, 88, 89, 93, 94, 96, 96, 97, 97, 99, 100, 100, 100, 100]\n",
            "Искомое число 33 не обнаружено среди чисел списка\n"
          ],
          "name": "stdout"
        },
        {
          "output_type": "execute_result",
          "data": {
            "text/plain": [
              "0.00027571099781198427"
            ]
          },
          "metadata": {
            "tags": []
          },
          "execution_count": 484
        }
      ]
    },
    {
      "cell_type": "code",
      "metadata": {
        "id": "2n-vdT6-YgNF",
        "outputId": "5d7485f1-83aa-47e2-e58e-817030a8c1ed",
        "colab": {
          "base_uri": "https://localhost:8080/"
        }
      },
      "source": [
        "data=[]\n",
        "import random\n",
        "n=random.randint(8,15)\n",
        "for i in range(n):\n",
        " x=random.randint(0,100)\n",
        " data.append(x)\n",
        "print(data)\n",
        "def quicksort(nums):\n",
        "   if len(nums) <= 1:\n",
        "       return nums\n",
        "   else:\n",
        "       q = random.choice(nums)\n",
        "       s_nums = []\n",
        "       m_nums = []\n",
        "       e_nums = []\n",
        "       for n in nums:\n",
        "           if n < q:\n",
        "               s_nums.append(n)\n",
        "           elif n > q:\n",
        "               m_nums.append(n)\n",
        "           else:\n",
        "               e_nums.append(n)\n",
        "       return quicksort(s_nums) + e_nums + quicksort(m_nums)\n",
        "print(quicksort(data))"
      ],
      "execution_count": 519,
      "outputs": [
        {
          "output_type": "stream",
          "text": [
            "[95, 56, 12, 35, 11, 71, 35, 64, 15, 6, 48, 10, 53, 12]\n",
            "[6, 10, 11, 12, 12, 15, 35, 35, 48, 53, 56, 64, 71, 95]\n"
          ],
          "name": "stdout"
        }
      ]
    }
  ]
}