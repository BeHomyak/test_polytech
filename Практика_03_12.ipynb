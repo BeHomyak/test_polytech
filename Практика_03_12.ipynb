{
  "nbformat": 4,
  "nbformat_minor": 0,
  "metadata": {
    "colab": {
      "name": "Практика_03.12.ipynb",
      "provenance": [],
      "authorship_tag": "ABX9TyMbgCA0cWEU+k0U8nw5ELEu",
      "include_colab_link": true
    },
    "kernelspec": {
      "name": "python3",
      "display_name": "Python 3"
    }
  },
  "cells": [
    {
      "cell_type": "markdown",
      "metadata": {
        "id": "view-in-github",
        "colab_type": "text"
      },
      "source": [
        "<a href=\"https://colab.research.google.com/github/BeHomyak/test_polytech/blob/repo/%D0%9F%D1%80%D0%B0%D0%BA%D1%82%D0%B8%D0%BA%D0%B0_03_12.ipynb\" target=\"_parent\"><img src=\"https://colab.research.google.com/assets/colab-badge.svg\" alt=\"Open In Colab\"/></a>"
      ]
    },
    {
      "cell_type": "code",
      "metadata": {
        "id": "6ub9bpBZ5eO0"
      },
      "source": [
        "a=[]\n",
        "import random\n",
        "n=random.randint(8,15)\n",
        "for i in range(n):\n",
        " x=random.randint(0,10)\n",
        " a.append(x)\n",
        "print(a)\n",
        "\n",
        "def find(data):\n",
        "  k=0\n",
        "  for i in range(n-1):\n",
        "    for j in range(i+1, n):\n",
        "        if a[i]==a[j]:\n",
        "            k=+1\n",
        "            print(a[i])\n",
        "  if k==0:\n",
        "    print('Все элементы уникальны')\n",
        "find(a)"
      ],
      "execution_count": null,
      "outputs": []
    }
  ]
}